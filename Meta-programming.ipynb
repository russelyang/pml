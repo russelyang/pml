{
 "cells": [
  {
   "cell_type": "markdown",
   "metadata": {},
   "source": [
    "# Meta Programming"
   ]
  },
  {
   "cell_type": "markdown",
   "metadata": {},
   "source": [
    "https://www.youtube.com/watch?v=sPiWg5jSoZI&t=135s"
   ]
  },
  {
   "cell_type": "code",
   "execution_count": 17,
   "metadata": {},
   "outputs": [],
   "source": [
    "class Spam:\n",
    "    a = 1\n",
    "    def __init__(self, b):\n",
    "        self.b = b\n",
    "    def imethod(self):\n",
    "        pass\n",
    "    @classmethod\n",
    "    def cmethod(cls):\n",
    "        pass\n",
    "    "
   ]
  },
  {
   "cell_type": "code",
   "execution_count": 18,
   "metadata": {},
   "outputs": [
    {
     "data": {
      "text/plain": [
       "1"
      ]
     },
     "execution_count": 18,
     "metadata": {},
     "output_type": "execute_result"
    }
   ],
   "source": [
    "Spam.a"
   ]
  },
  {
   "cell_type": "code",
   "execution_count": 14,
   "metadata": {},
   "outputs": [],
   "source": [
    "s = Spam(2)\n",
    "s.b\n",
    "s.imethod()\n",
    "Spam.cmethod()"
   ]
  },
  {
   "cell_type": "markdown",
   "metadata": {},
   "source": [
    "# Objects are layered on dictionaries"
   ]
  },
  {
   "cell_type": "code",
   "execution_count": 21,
   "metadata": {},
   "outputs": [],
   "source": [
    "class AnotherSpam:\n",
    "    def __init__(self, x, y):\n",
    "        self.x = x;\n",
    "        self.y = y;\n",
    "    def foo(self):\n",
    "        pass"
   ]
  },
  {
   "cell_type": "code",
   "execution_count": 24,
   "metadata": {},
   "outputs": [
    {
     "data": {
      "text/plain": [
       "{'x': 2, 'y': 3}"
      ]
     },
     "execution_count": 24,
     "metadata": {},
     "output_type": "execute_result"
    }
   ],
   "source": [
    "s2 = AnotherSpam(2,3)\n",
    "s2.__dict__"
   ]
  },
  {
   "cell_type": "code",
   "execution_count": 27,
   "metadata": {},
   "outputs": [
    {
     "data": {
      "text/plain": [
       "<function __main__.AnotherSpam.foo>"
      ]
     },
     "execution_count": 27,
     "metadata": {},
     "output_type": "execute_result"
    }
   ],
   "source": [
    "AnotherSpam.__dict__['foo']"
   ]
  },
  {
   "cell_type": "markdown",
   "metadata": {},
   "source": [
    "# Decorators\n",
    "- A decorator is a function that creates a wrapper around another function.\n",
    "- The wrapper is a new function that works exactly like the original function(same arguments, same return value) except that some kind of extra processing is carried out."
   ]
  },
  {
   "cell_type": "code",
   "execution_count": 60,
   "metadata": {},
   "outputs": [],
   "source": [
    "from functools import wraps\n",
    "def debug(func):\n",
    "    #@wraps(func)\n",
    "    def wrapper(*args, **kwargs):\n",
    "        print(func.__qualname__)\n",
    "        print(*args)\n",
    "        return func(*args, **kwargs)\n",
    "    return wrapper\n",
    "\n",
    "@debug\n",
    "def add(x,y):\n",
    "    '''this is very smart add function'''\n",
    "    return x + y\n"
   ]
  },
  {
   "cell_type": "code",
   "execution_count": 62,
   "metadata": {},
   "outputs": [
    {
     "name": "stdout",
     "output_type": "stream",
     "text": [
      "add\n",
      "3 5\n"
     ]
    },
    {
     "data": {
      "text/plain": [
       "8"
      ]
     },
     "execution_count": 62,
     "metadata": {},
     "output_type": "execute_result"
    }
   ],
   "source": [
    "add(3,5)"
   ]
  },
  {
   "cell_type": "markdown",
   "metadata": {},
   "source": [
    "# Decorators with Args\n",
    "- ```\n",
    "@decorator(args)\n",
    "def func():\n",
    "    pass\n",
    "```\n",
    "- Evaluateds as \n",
    "```\n",
    "func = decorator(args)(func)\n",
    "```"
   ]
  },
  {
   "cell_type": "code",
   "execution_count": 65,
   "metadata": {},
   "outputs": [
    {
     "name": "stdout",
     "output_type": "stream",
     "text": [
      "***minus***\n",
      "multiply\n"
     ]
    },
    {
     "data": {
      "text/plain": [
       "6"
      ]
     },
     "execution_count": 65,
     "metadata": {},
     "output_type": "execute_result"
    }
   ],
   "source": [
    "from functools import wraps, partial\n",
    "def debugargs(func=None, *, prefix=''):\n",
    "    if func is None:\n",
    "        return partial(debugargs, prefix=prefix)\n",
    "    \n",
    "    msg = prefix + func.__qualname__ + prefix\n",
    "    @wraps(func)\n",
    "    def wrapper(*args, **kwargs):\n",
    "        print(msg)\n",
    "        return func(*args, **kwargs)\n",
    "    return wrapper\n",
    "\n",
    "@debugargs(prefix='***')\n",
    "def minus(x,y):\n",
    "    return x - y;\n",
    "\n",
    "@debugargs\n",
    "def multiply(x, y):\n",
    "    return x * y\n",
    "\n",
    "minus(1,2)\n",
    "multiply(2,3)"
   ]
  },
  {
   "cell_type": "markdown",
   "metadata": {},
   "source": [
    "Can you decorate all methods at once?"
   ]
  },
  {
   "cell_type": "markdown",
   "metadata": {},
   "source": [
    "# Using a Metaclass\n",
    "- Metaclasses get information about class definitions at the time of definition\n",
    " - can inspect this data\n",
    " - can modify this data\n",
    "- Essentially, similar to a class decorator\n",
    "- Questions: Why would you use one?"
   ]
  },
  {
   "cell_type": "code",
   "execution_count": 74,
   "metadata": {},
   "outputs": [],
   "source": [
    "class mytype(type):\n",
    "    def __new__(cls, name, bases, clsdict):\n",
    "        classobj = super().__new__(cls,name,bases,clsdict)\n",
    "        return classobj\n"
   ]
  },
  {
   "cell_type": "code",
   "execution_count": 78,
   "metadata": {},
   "outputs": [
    {
     "data": {
      "text/plain": [
       "__main__.mytype"
      ]
     },
     "execution_count": 78,
     "metadata": {},
     "output_type": "execute_result"
    }
   ],
   "source": [
    "class Sample(metaclass=mytype):\n",
    "    pass\n",
    "type(Sample)\n"
   ]
  },
  {
   "cell_type": "markdown",
   "metadata": {},
   "source": [
    "# Big Picture\n",
    "- it's mostly about wrapping/rewriting\n",
    " - Decorators: Functions\n",
    " - Class Decorators: Classes\n",
    " - Metaclasses: class hierarchies\n",
    "- You have the power to change things"
   ]
  },
  {
   "cell_type": "code",
   "execution_count": 79,
   "metadata": {},
   "outputs": [],
   "source": [
    "class Structure:\n",
    "    _fields = []\n",
    "    def __init__(self, *args):\n",
    "        for name, val in zip(self._fields, args):\n",
    "            setattr(self, name, value)\n",
    "\n",
    "class Stock(Structure):\n",
    "    _fields = ['name', 'shares', 'price']\n",
    "    \n",
    "    \n",
    "class Point(Structure):\n",
    "    _fields = ['x', 'y']\n",
    "    \n",
    "class Address(Structure):\n",
    "    _fields = ['hostname', 'port']"
   ]
  }
 ],
 "metadata": {
  "kernelspec": {
   "display_name": "Python 3",
   "language": "python",
   "name": "python3"
  },
  "language_info": {
   "codemirror_mode": {
    "name": "ipython",
    "version": 3
   },
   "file_extension": ".py",
   "mimetype": "text/x-python",
   "name": "python",
   "nbconvert_exporter": "python",
   "pygments_lexer": "ipython3",
   "version": "3.5.2"
  }
 },
 "nbformat": 4,
 "nbformat_minor": 2
}
